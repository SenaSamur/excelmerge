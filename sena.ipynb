{
 "cells": [
  {
   "cell_type": "code",
   "execution_count": 14,
   "metadata": {},
   "outputs": [],
   "source": [
    "\n",
    "# Video dosyasını aç\n",
    "#video_path = '/Users/senasamur/Desktop/Smartalpha/MOVIE-0009.mp4'\n",
    "\n"
   ]
  },
  {
   "cell_type": "code",
   "execution_count": 13,
   "metadata": {},
   "outputs": [],
   "source": [
    "import cv2\n",
    "\n",
    "# Video dosyasını aç\n",
    "video_path = '/Users/senasamur/Desktop/Smartalpha/MOVIE-0009.mp4'\n",
    "cap = cv2.VideoCapture(video_path)\n",
    "\n",
    "# Video özelliklerini al\n",
    "fps = int(cap.get(cv2.CAP_PROP_FPS))\n",
    "frame_count = int(cap.get(cv2.CAP_PROP_FRAME_COUNT))\n",
    "\n",
    "# Her 5 karede bir frame'i kaydetmek için bir sayaç\n",
    "frame_interval = 5\n",
    "current_frame = 0\n",
    "\n",
    "# Frameleri ayır ve kaydet\n",
    "while True:\n",
    "    ret, frame = cap.read()\n",
    "\n",
    "    if not ret:\n",
    "        break\n",
    "\n",
    "    # Her 5 karede bir frame'i işle\n",
    "    if current_frame % frame_interval == 0:\n",
    "        # Burada frame ile bir şeyler yapabilirsiniz (örneğin, kaydetmek)\n",
    "        frame_filename = f'frame_{current_frame}.png'\n",
    "        cv2.imwrite(frame_filename, frame)\n",
    "\n",
    "    current_frame += 1\n",
    "\n",
    "# Video dosyasını kapat\n",
    "cap.release()\n"
   ]
  },
  {
   "cell_type": "code",
   "execution_count": 1,
   "metadata": {},
   "outputs": [
    {
     "name": "stdout",
     "output_type": "stream",
     "text": [
      "Structural Similarity Index (SSI): 0.7988524209838491\n"
     ]
    }
   ],
   "source": [
    "import cv2\n",
    "from skimage.metrics import structural_similarity as ssim\n",
    "\n",
    "# İki görüntüyü oku\n",
    "image1 = cv2.imread('frame_5.png', cv2.IMREAD_GRAYSCALE)\n",
    "image2 = cv2.imread('frame_70.png', cv2.IMREAD_GRAYSCALE)\n",
    "\n",
    "# İki görüntü arasındaki benzerlik skorunu hesapla\n",
    "score, _ = ssim(image1, image2, full=True)\n",
    "\n",
    "# Benzerlik skorunu ekrana yazdır\n",
    "print(f\"Structural Similarity Index (SSI): {score}\")\n",
    "\n",
    "# İki görüntüyü görselleştir\n",
    "cv2.imshow('Image 1', image1)\n",
    "cv2.imshow('Image 2', image2)\n",
    "cv2.waitKey(0)\n",
    "cv2.destroyAllWindows()\n",
    "\n"
   ]
  },
  {
   "cell_type": "markdown",
   "metadata": {},
   "source": []
  },
  {
   "cell_type": "code",
   "execution_count": 2,
   "metadata": {},
   "outputs": [
    {
     "name": "stderr",
     "output_type": "stream",
     "text": [
      "[ WARN:0@62.604] global loadsave.cpp:248 findDecoder imread_('frames/frame_0.png'): can't open/read file: check file path/integrity\n",
      "[ WARN:0@62.604] global loadsave.cpp:248 findDecoder imread_('frames/frame_1.png'): can't open/read file: check file path/integrity\n"
     ]
    },
    {
     "ename": "AttributeError",
     "evalue": "'NoneType' object has no attribute 'shape'",
     "output_type": "error",
     "traceback": [
      "\u001b[0;31m---------------------------------------------------------------------------\u001b[0m",
      "\u001b[0;31mAttributeError\u001b[0m                            Traceback (most recent call last)",
      "\u001b[1;32m/Users/senasamur/Desktop/python_exercises/excelmerge/sena.ipynb Cell 5\u001b[0m line \u001b[0;36m2\n\u001b[1;32m     <a href='vscode-notebook-cell:/Users/senasamur/Desktop/python_exercises/excelmerge/sena.ipynb#X12sZmlsZQ%3D%3D?line=19'>20</a>\u001b[0m image2 \u001b[39m=\u001b[39m cv2\u001b[39m.\u001b[39mimread(\u001b[39mf\u001b[39m\u001b[39m'\u001b[39m\u001b[39m{\u001b[39;00mimage_directory\u001b[39m}\u001b[39;00m\u001b[39mframe_\u001b[39m\u001b[39m{\u001b[39;00mi\u001b[39m}\u001b[39;00m\u001b[39m.png\u001b[39m\u001b[39m'\u001b[39m, cv2\u001b[39m.\u001b[39mIMREAD_GRAYSCALE)\n\u001b[1;32m     <a href='vscode-notebook-cell:/Users/senasamur/Desktop/python_exercises/excelmerge/sena.ipynb#X12sZmlsZQ%3D%3D?line=21'>22</a>\u001b[0m \u001b[39m# Benzerlik skorunu hesapla\u001b[39;00m\n\u001b[0;32m---> <a href='vscode-notebook-cell:/Users/senasamur/Desktop/python_exercises/excelmerge/sena.ipynb#X12sZmlsZQ%3D%3D?line=22'>23</a>\u001b[0m score \u001b[39m=\u001b[39m calculate_ssim(image1, image2)\n\u001b[1;32m     <a href='vscode-notebook-cell:/Users/senasamur/Desktop/python_exercises/excelmerge/sena.ipynb#X12sZmlsZQ%3D%3D?line=24'>25</a>\u001b[0m \u001b[39m# Benzerlik skorunu listeye ekle\u001b[39;00m\n\u001b[1;32m     <a href='vscode-notebook-cell:/Users/senasamur/Desktop/python_exercises/excelmerge/sena.ipynb#X12sZmlsZQ%3D%3D?line=25'>26</a>\u001b[0m similarity_scores\u001b[39m.\u001b[39mappend(score)\n",
      "\u001b[1;32m/Users/senasamur/Desktop/python_exercises/excelmerge/sena.ipynb Cell 5\u001b[0m line \u001b[0;36m7\n\u001b[1;32m      <a href='vscode-notebook-cell:/Users/senasamur/Desktop/python_exercises/excelmerge/sena.ipynb#X12sZmlsZQ%3D%3D?line=4'>5</a>\u001b[0m \u001b[39mdef\u001b[39;00m \u001b[39mcalculate_ssim\u001b[39m(image1, image2):\n\u001b[1;32m      <a href='vscode-notebook-cell:/Users/senasamur/Desktop/python_exercises/excelmerge/sena.ipynb#X12sZmlsZQ%3D%3D?line=5'>6</a>\u001b[0m     \u001b[39m# İki görüntü arasındaki benzerlik skorunu hesapla\u001b[39;00m\n\u001b[0;32m----> <a href='vscode-notebook-cell:/Users/senasamur/Desktop/python_exercises/excelmerge/sena.ipynb#X12sZmlsZQ%3D%3D?line=6'>7</a>\u001b[0m     score, _ \u001b[39m=\u001b[39m ssim(image1, image2, full\u001b[39m=\u001b[39;49m\u001b[39mTrue\u001b[39;49;00m)\n\u001b[1;32m      <a href='vscode-notebook-cell:/Users/senasamur/Desktop/python_exercises/excelmerge/sena.ipynb#X12sZmlsZQ%3D%3D?line=7'>8</a>\u001b[0m     \u001b[39mreturn\u001b[39;00m score\n",
      "File \u001b[0;32m/Library/Frameworks/Python.framework/Versions/3.11/lib/python3.11/site-packages/skimage/metrics/_structural_similarity.py:111\u001b[0m, in \u001b[0;36mstructural_similarity\u001b[0;34m(im1, im2, win_size, gradient, data_range, channel_axis, gaussian_weights, full, **kwargs)\u001b[0m\n\u001b[1;32m     15\u001b[0m \u001b[39mdef\u001b[39;00m \u001b[39mstructural_similarity\u001b[39m(im1, im2,\n\u001b[1;32m     16\u001b[0m                           \u001b[39m*\u001b[39m,\n\u001b[1;32m     17\u001b[0m                           win_size\u001b[39m=\u001b[39m\u001b[39mNone\u001b[39;00m, gradient\u001b[39m=\u001b[39m\u001b[39mFalse\u001b[39;00m, data_range\u001b[39m=\u001b[39m\u001b[39mNone\u001b[39;00m,\n\u001b[1;32m     18\u001b[0m                           channel_axis\u001b[39m=\u001b[39m\u001b[39mNone\u001b[39;00m,\n\u001b[1;32m     19\u001b[0m                           gaussian_weights\u001b[39m=\u001b[39m\u001b[39mFalse\u001b[39;00m, full\u001b[39m=\u001b[39m\u001b[39mFalse\u001b[39;00m, \u001b[39m*\u001b[39m\u001b[39m*\u001b[39mkwargs):\n\u001b[1;32m     20\u001b[0m     \u001b[39m\"\"\"\u001b[39;00m\n\u001b[1;32m     21\u001b[0m \u001b[39m    Compute the mean structural similarity index between two images.\u001b[39;00m\n\u001b[1;32m     22\u001b[0m \u001b[39m    Please pay attention to the `data_range` parameter with floating-point images.\u001b[39;00m\n\u001b[0;32m   (...)\u001b[0m\n\u001b[1;32m    109\u001b[0m \n\u001b[1;32m    110\u001b[0m \u001b[39m    \"\"\"\u001b[39;00m\n\u001b[0;32m--> 111\u001b[0m     check_shape_equality(im1, im2)\n\u001b[1;32m    112\u001b[0m     float_type \u001b[39m=\u001b[39m _supported_float_type(im1\u001b[39m.\u001b[39mdtype)\n\u001b[1;32m    114\u001b[0m     \u001b[39mif\u001b[39;00m channel_axis \u001b[39mis\u001b[39;00m \u001b[39mnot\u001b[39;00m \u001b[39mNone\u001b[39;00m:\n\u001b[1;32m    115\u001b[0m         \u001b[39m# loop over channels\u001b[39;00m\n",
      "File \u001b[0;32m/Library/Frameworks/Python.framework/Versions/3.11/lib/python3.11/site-packages/skimage/_shared/utils.py:503\u001b[0m, in \u001b[0;36mcheck_shape_equality\u001b[0;34m(*images)\u001b[0m\n\u001b[1;32m    501\u001b[0m \u001b[39m\"\"\"Check that all images have the same shape\"\"\"\u001b[39;00m\n\u001b[1;32m    502\u001b[0m image0 \u001b[39m=\u001b[39m images[\u001b[39m0\u001b[39m]\n\u001b[0;32m--> 503\u001b[0m \u001b[39mif\u001b[39;00m \u001b[39mnot\u001b[39;00m \u001b[39mall\u001b[39;49m(image0\u001b[39m.\u001b[39;49mshape \u001b[39m==\u001b[39;49m image\u001b[39m.\u001b[39;49mshape \u001b[39mfor\u001b[39;49;00m image \u001b[39min\u001b[39;49;00m images[\u001b[39m1\u001b[39;49m:]):\n\u001b[1;32m    504\u001b[0m     \u001b[39mraise\u001b[39;00m \u001b[39mValueError\u001b[39;00m(\u001b[39m'\u001b[39m\u001b[39mInput images must have the same dimensions.\u001b[39m\u001b[39m'\u001b[39m)\n\u001b[1;32m    505\u001b[0m \u001b[39mreturn\u001b[39;00m\n",
      "File \u001b[0;32m/Library/Frameworks/Python.framework/Versions/3.11/lib/python3.11/site-packages/skimage/_shared/utils.py:503\u001b[0m, in \u001b[0;36m<genexpr>\u001b[0;34m(.0)\u001b[0m\n\u001b[1;32m    501\u001b[0m \u001b[39m\"\"\"Check that all images have the same shape\"\"\"\u001b[39;00m\n\u001b[1;32m    502\u001b[0m image0 \u001b[39m=\u001b[39m images[\u001b[39m0\u001b[39m]\n\u001b[0;32m--> 503\u001b[0m \u001b[39mif\u001b[39;00m \u001b[39mnot\u001b[39;00m \u001b[39mall\u001b[39m(image0\u001b[39m.\u001b[39;49mshape \u001b[39m==\u001b[39m image\u001b[39m.\u001b[39mshape \u001b[39mfor\u001b[39;00m image \u001b[39min\u001b[39;00m images[\u001b[39m1\u001b[39m:]):\n\u001b[1;32m    504\u001b[0m     \u001b[39mraise\u001b[39;00m \u001b[39mValueError\u001b[39;00m(\u001b[39m'\u001b[39m\u001b[39mInput images must have the same dimensions.\u001b[39m\u001b[39m'\u001b[39m)\n\u001b[1;32m    505\u001b[0m \u001b[39mreturn\u001b[39;00m\n",
      "\u001b[0;31mAttributeError\u001b[0m: 'NoneType' object has no attribute 'shape'"
     ]
    }
   ],
   "source": [
    "import cv2\n",
    "import pandas as pd\n",
    "from skimage.metrics import structural_similarity as ssim\n",
    "\n",
    "def calculate_ssim(image1, image2):\n",
    "    # İki görüntü arasındaki benzerlik skorunu hesapla\n",
    "    score, _ = ssim(image1, image2, full=True)\n",
    "    return score\n",
    "\n",
    "# Görüntülerin bulunduğu dizini belirtin\n",
    "image_directory = 'frames/'\n",
    "\n",
    "# Benzerlik skorlarını saklamak için bir liste\n",
    "similarity_scores = []\n",
    "\n",
    "# Ardarda gelen bütün resimleri karşılaştır\n",
    "for i in range(1, 10):  # Toplam 10 resim olduğunu varsayalım\n",
    "    # İki ardarda gelen resmi oku\n",
    "    image1 = cv2.imread(f'{image_directory}frame_{i-1}.png', cv2.IMREAD_GRAYSCALE)\n",
    "    image2 = cv2.imread(f'{image_directory}frame_{i}.png', cv2.IMREAD_GRAYSCALE)\n",
    "\n",
    "    # Benzerlik skorunu hesapla\n",
    "    score = calculate_ssim(image1, image2)\n",
    "    \n",
    "    # Benzerlik skorunu listeye ekle\n",
    "    similarity_scores.append(score)\n",
    "\n",
    "# Benzerlik skorlarını içeren bir veri çerçevesi oluştur\n",
    "df = pd.DataFrame({'Frame Pair': [f'Frame {i} vs Frame {i+1}' for i in range(len(similarity_scores))],\n",
    "                   'SSI': similarity_scores})\n",
    "\n",
    "# Veri çerçevesini ekrana yazdır\n",
    "print(df)\n"
   ]
  }
 ],
 "metadata": {
  "kernelspec": {
   "display_name": "Python 3",
   "language": "python",
   "name": "python3"
  },
  "language_info": {
   "codemirror_mode": {
    "name": "ipython",
    "version": 3
   },
   "file_extension": ".py",
   "mimetype": "text/x-python",
   "name": "python",
   "nbconvert_exporter": "python",
   "pygments_lexer": "ipython3",
   "version": "3.11.1"
  }
 },
 "nbformat": 4,
 "nbformat_minor": 2
}
